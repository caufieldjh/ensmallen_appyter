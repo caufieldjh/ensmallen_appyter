{
 "cells": [
  {
   "cell_type": "code",
   "execution_count": null,
   "metadata": {},
   "outputs": [],
   "source": [
    "%%appyter init\n",
    "\n",
    "from appyter import magic\n",
    "magic.init(lambda _=globals: _())"
   ]
  },
  {
   "cell_type": "code",
   "execution_count": null,
   "metadata": {},
   "outputs": [],
   "source": [
    "%%appyter markdown\n",
    "\n",
    "# Ensmallen\n",
    "\n",
    "## Graph Loading"
   ]
  },
  {
   "cell_type": "code",
   "execution_count": null,
   "metadata": {},
   "outputs": [],
   "source": [
    "%%appyter code_eval\n",
    "\n",
    "from importlib import import_module\n",
    "from embiggen.pipelines import compute_node_embedding\n",
    "\n",
    "{% set ds = ChoiceField(\n",
    "  name='ds',\n",
    "  label='Dataset to use: ',\n",
    "  choices={\"Linqs\":\"linqs\",\n",
    "           \"Monarch Graph\":\"monarchinitiative\"\n",
    "          },\n",
    "  default=\"Linqs\"\n",
    ") %}\n",
    "\n",
    "{% set gn = ChoiceField(\n",
    "  name='gn',\n",
    "  label='Graph to load: ',\n",
    "  choices={\"Cora\":\"Cora\",\n",
    "           \"CiteSeer\":\"CiteSeer\",\n",
    "           \"PubMedDiabetes\":\"PubMedDiabetes\",\n",
    "           \"Monarch Graph\":\"monarchinitiative\"\n",
    "          },\n",
    "  default=\"Cora\"\n",
    ") %}\n",
    "\n",
    "dataset_mod = import_module(\"ensmallen_graph.datasets.{{ ds }}\")\n",
    "this_graph_method = dataset_mod.{{ gn }}\n",
    "this_graph = this_graph_method()\n",
    "this_graph\n",
    "\n",
    "{% set embed_type = ChoiceField(\n",
    "  name='embed_type',\n",
    "  label='Embedding type to generate: ',\n",
    "  choices=['CBOW', 'GloVe', 'SkipGram', 'Siamese', 'TransE', 'SimplE', 'TransH', 'TransR'],\n",
    "  default=\"CBOW\"\n",
    ") %}\n",
    "\n",
    "embedding, history = compute_node_embedding(this_graph, \"{{ embed_type }}\")\n",
    "print(embedding)"
   ]
  }
 ],
 "metadata": {
  "file_extension": ".py",
  "kernelspec": {
   "display_name": "Python 3 (ipykernel)",
   "language": "python",
   "name": "python3"
  },
  "language_info": {
   "codemirror_mode": {
    "name": "ipython",
    "version": 3
   },
   "file_extension": ".py",
   "mimetype": "text/x-python",
   "name": "python",
   "nbconvert_exporter": "python",
   "pygments_lexer": "ipython3",
   "version": "3.8.10"
  },
  "mimetype": "text/x-python",
  "name": "python",
  "npconvert_exporter": "python",
  "pygments_lexer": "ipython2",
  "version": 2
 },
 "nbformat": 4,
 "nbformat_minor": 2
}
